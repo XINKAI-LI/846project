{
 "cells": [
  {
   "cell_type": "code",
   "execution_count": 10,
   "metadata": {},
   "outputs": [
    {
     "name": "stdout",
     "output_type": "stream",
     "text": [
      "the size of filtered bug fixing commit is 636\n",
      "4acec50c8afb95544b08a6dbdda743264af69909\n",
      "{'fixCommitParentSHA1': 'd56eaa8ac9e8eaab69e42124ae82bd7de42b8d74', 'bugFilePath': {'dubbo-registry/dubbo-registry-consul/src/main/java/org/apache/dubbo/registry/consul/ConsulRegistry.java': {278}}, 'projectName': 'alibaba.dubbo'}\n"
     ]
    }
   ],
   "source": [
    "import json\n",
    "import git\n",
    "from git import Repo\n",
    "\n",
    "\n",
    "f = open(\"sstubs.json\")\n",
    "sstubs = json.load(f)\n",
    "\n",
    "repo_list = [\n",
    "    'https://github.com/spring-projects/spring-boot',\n",
    "    'https://github.com/iluwatar/java-design-patterns',\n",
    "    'https://github.com/square/retrofit',\n",
    "    'https://github.com/square/okhttp',\n",
    "    'https://github.com/zxing/zxing',\n",
    "    'https://github.com/libgdx/libgdx',\n",
    "    'https://github.com/google/guava',\n",
    "    'https://github.com/alibaba/dubbo',\n",
    "    'https://github.com/jfeinstein10/SlidingMenu',\n",
    "    'https://github.com/netty/netty'\n",
    "]\n",
    "\n",
    "repo_name_list = [\n",
    "    'spring-projects.spring-boot',\n",
    "    'iluwatar.java-design-patterns',\n",
    "    'square.retrofit',\n",
    "    'square.okhttp',\n",
    "    'zxing.zxing',\n",
    "    'libgdx.libgdx',\n",
    "    'google.guava',\n",
    "    'alibaba.dubbo',\n",
    "    'jfeinstein10.SlidingMenu',\n",
    "    'netty.netty',\n",
    "]\n",
    "\n",
    "# get the fixing commits belong to the repo_list\n",
    "# key: bug fixing commit's id\n",
    "# value:\n",
    "#  bugFilePath: the path to the fixed file and line_nums (dic, can be multiple)\n",
    "#  fixCommitParentSHA1, parent_commit_id\n",
    "\n",
    "filter_commits = {}\n",
    "\n",
    "for bug in sstubs:\n",
    "    if bug['projectName'] not in repo_name_list:\n",
    "        continue\n",
    "    cmt_id = bug[\"fixCommitSHA1\"]\n",
    "    parent_commit = bug[\"fixCommitParentSHA1\"]\n",
    "    bug_file_path = bug[\"bugFilePath\"]\n",
    "    bug_line_num = bug[\"bugLineNum\"]\n",
    "    project_name = bug[\"projectName\"]\n",
    "    \n",
    "    if cmt_id in filter_commits:\n",
    "        # old commit, check if new file path\n",
    "        if bug_file_path in filter_commits[cmt_id][\"bugFilePath\"]:\n",
    "            # old file path, check if new line num\n",
    "            if bug_line_num in filter_commits[cmt_id][\"bugFilePath\"][bug_file_path]:\n",
    "                # bug already exist\n",
    "                continue\n",
    "            else:\n",
    "                # new bug in old file path\n",
    "                filter_commits[cmt_id][\"bugFilePath\"][bug_file_path].add(bug_line_num)\n",
    "        else:\n",
    "            # new file path\n",
    "            filter_commits[cmt_id][\"bugFilePath\"][bug_file_path] = {bug_line_num}\n",
    "    else:\n",
    "        # new commit\n",
    "        filter_commits[cmt_id] = {\n",
    "            'fixCommitParentSHA1': parent_commit,\n",
    "            'bugFilePath': {bug_file_path: {bug_line_num}},\n",
    "            'projectName': project_name\n",
    "        }\n",
    "\n",
    "print(\"the size of filtered bug fixing commit is {}\".format(len(filter_commits)))\n",
    "# print a item in dic\n",
    "for x, y in filter_commits.items():\n",
    "    print(x)\n",
    "    print(y)\n",
    "    break"
   ]
  },
  {
   "cell_type": "code",
   "execution_count": 12,
   "metadata": {},
   "outputs": [
    {
     "name": "stdout",
     "output_type": "stream",
     "text": [
      "the size of filtered bug fixing commit is 636\n",
      "4acec50c8afb95544b08a6dbdda743264af69909\n",
      "{'096d1dae2adc86be71076a53c1ded690cc5b4997'}\n"
     ]
    }
   ],
   "source": [
    "\n",
    "fix_introduce_pairs = {}\n",
    "\n",
    "for key, value in filter_commits.items():\n",
    "    repo_name = value[\"projectName\"]\n",
    "    repo_path = \"/Users/lixinkai/Desktop/\" + repo_name.split(\".\")[1]\n",
    "    repo = Repo(repo_path)\n",
    "    repo.git.checkout('master')\n",
    "\n",
    "    parent_commit = value[\"fixCommitParentSHA1\"]\n",
    "    for path_name, line_nums in value[\"bugFilePath\"].items():\n",
    "        for line_num in line_nums:\n",
    "            line = 1\n",
    "            for commit, lines in repo.blame(parent_commit, path_name):\n",
    "                if line <= line_num < (line + len(lines)):\n",
    "                    if key in fix_introduce_pairs:\n",
    "                        if commit not in fix_introduce_pairs[key]:\n",
    "                            fix_introduce_pairs[key].add(commit.hexsha)\n",
    "                    else:\n",
    "                        fix_introduce_pairs[key] = {commit.hexsha}\n",
    "                line += len(lines)\n",
    "    \n",
    "\n",
    "print(\"the size of fixing-inducing pair is {}\".format(len(fix_introduce_pairs)))\n",
    "# print a item in dic\n",
    "for x, y in fix_introduce_pairs.items():\n",
    "    print(x)\n",
    "    print(y)\n",
    "    break\n",
    "\n"
   ]
  },
  {
   "cell_type": "code",
   "execution_count": 13,
   "metadata": {},
   "outputs": [],
   "source": [
    "data = []\n",
    "\n",
    "for key, value in fix_introduce_pairs.items():\n",
    "    commit_ids = list(value)\n",
    "    data.append({\n",
    "        'bug_fixing_commit_id': key,\n",
    "        'bug_inducing_commit_ids': commit_ids\n",
    "    })\n",
    "    \n",
    "with open('fix_introduce_pairs.json', 'w') as outfile:\n",
    "    json.dump(data, outfile)\n"
   ]
  },
  {
   "cell_type": "code",
   "execution_count": 4,
   "metadata": {},
   "outputs": [],
   "source": [
    "bug_fixing_commits = []\n",
    "for key, value in filter_commits.items():\n",
    "    bug_inducing_commit_ids = list(fix_introduce_pairs[key])\n",
    "    locations = {}\n",
    "    bugFilePath = value[\"bugFilePath\"]\n",
    "    for path_name, line_nums in bugFilePath.items():\n",
    "        locations[path_name] = {\n",
    "            'count': len(list(line_nums)),\n",
    "            'locations': list(line_nums)\n",
    "        }\n",
    "    bug_fixing_commits.append({\n",
    "        'bug_fixing_commit_id': key,\n",
    "        'fixCommitParentSHA1': value[\"fixCommitParentSHA1\"],\n",
    "        'bug_inducing_commit_ids': bug_inducing_commit_ids,\n",
    "        'bugFilePath': locations\n",
    "    })\n",
    "    \n",
    "with open('bug_fixing_commits.json', 'w') as outfile:\n",
    "    json.dump(bug_fixing_commits, outfile)"
   ]
  },
  {
   "cell_type": "code",
   "execution_count": 5,
   "metadata": {},
   "outputs": [
    {
     "name": "stdout",
     "output_type": "stream",
     "text": [
      "b569918db1c33847ce1d1464d7d78f692f289e99\n",
      "['\\t@ConditionalOnEnablednHealthIndicator(\"db\")']\n",
      "{'b569918db1c33847ce1d1464d7d78f692f289e99'}\n"
     ]
    }
   ],
   "source": [
    "ln = 156\n",
    "tlc = 1\n",
    "commits = set()\n",
    "for commit, lines in repo.blame('69fcae6b44cb9443bd970f89f7215258d6092bcc', 'spring-boot-actuator/src/main/java/org/springframework/boot/actuate/autoconfigure/HealthIndicatorAutoConfiguration.java'):\n",
    "    if tlc <= ln < (tlc + len(lines)):\n",
    "        commits.add(commit.hexsha)\n",
    "        print(commit)\n",
    "        print(lines)\n",
    "    tlc += len(lines)\n",
    "print(commits)"
   ]
  },
  {
   "cell_type": "code",
   "execution_count": null,
   "metadata": {},
   "outputs": [],
   "source": []
  }
 ],
 "metadata": {
  "kernelspec": {
   "display_name": "Python 3",
   "language": "python",
   "name": "python3"
  },
  "language_info": {
   "codemirror_mode": {
    "name": "ipython",
    "version": 3
   },
   "file_extension": ".py",
   "mimetype": "text/x-python",
   "name": "python",
   "nbconvert_exporter": "python",
   "pygments_lexer": "ipython3",
   "version": "3.8.5"
  }
 },
 "nbformat": 4,
 "nbformat_minor": 2
}
