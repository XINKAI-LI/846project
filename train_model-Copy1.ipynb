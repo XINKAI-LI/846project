{
 "cells": [
  {
   "cell_type": "code",
   "execution_count": 41,
   "id": "injured-delicious",
   "metadata": {},
   "outputs": [
    {
     "name": "stdout",
     "output_type": "stream",
     "text": [
      "1682\n",
      "1774\n",
      "e2110b5a6672c889b149b8d276f4374842709ba2\n",
      "{'author_activity_in_last_four_weeks': 7, 'total_commit_num': 953, 'buggy_commit_num': 14, 'total_bug_num': 19, 'active_week_num': 116, 'total_commits': 31727, 'total_files': 3342, 'days_after_creation': 3026}\n",
      "1682\n"
     ]
    }
   ],
   "source": [
    "import numpy as np\n",
    "import pandas as pd\n",
    "import pickle\n",
    "import xgboost as xgb\n",
    "from xgboost import plot_importance\n",
    "from sklearn.model_selection import train_test_split\n",
    "import json\n",
    "\n",
    "# merge some feature of data_patch into data\n",
    "data = pd.read_csv('./final_data.csv')\n",
    "data_patch = pd.read_csv('./final_data_patch.csv')\n",
    "\n",
    "data_size = len(data)\n",
    "data_patch_size = len(data_patch)\n",
    "print(data_size)\n",
    "print(data_patch_size)\n",
    "\n",
    "'''\n",
    "commit_id,\n",
    "author_id,\n",
    "date,loc,\n",
    "addition,\n",
    "deletion,\n",
    "file_num,\n",
    "bug_num,\n",
    "\n",
    "author_activity_in_last_four_weeks, #\n",
    "total_commit_num, #\n",
    "buggy_commit_num, #\n",
    "total_bug_num, #\n",
    "first_commit_week, #\n",
    "active_week_num, #\n",
    "\n",
    "followers,\n",
    "public_repos,\n",
    "created_at,\n",
    "\n",
    "total_commits, #\n",
    "total_files, #\n",
    "days_after_creation, #\n",
    "\n",
    "size,\n",
    "stargazers_count,\n",
    "watchers_count,\n",
    "forks_count,\n",
    "network_count\n",
    "'''\n",
    "used_data_patch_features = [\n",
    "    'author_activity_in_last_four_weeks', #\n",
    "    'total_commit_num', #\n",
    "    'buggy_commit_num', #\n",
    "    'total_bug_num', #\n",
    "    #'first_commit_week', #\n",
    "    'active_week_num', #\n",
    "    'total_commits', #\n",
    "    'total_files', #\n",
    "    'days_after_creation', #\n",
    "]\n",
    "\n",
    "# use a dictionary to save the data_patch\n",
    "patch_dic = {}\n",
    "for i in range(data_patch_size):\n",
    "    key = data_patch.loc[i, 'commit_id']\n",
    "    activity = data_patch.loc[i, 'author_activity_in_last_four_weeks']\n",
    "    # {'addition': 115, 'deletion': 11, 'commits': 7}\n",
    "    json_activity = activity.replace(chr(39), chr(34))\n",
    "    y = json.loads(json_activity)\n",
    "    value = {\n",
    "        'author_activity_in_last_four_weeks': y['commits'],\n",
    "        'total_commit_num': data_patch.loc[i, 'total_commit_num'],\n",
    "        'buggy_commit_num': data_patch.loc[i, 'buggy_commit_num'],\n",
    "        'total_bug_num': data_patch.loc[i, 'total_bug_num'],\n",
    "        #'first_commit_week': data_patch.loc[i, 'first_commit_week'],\n",
    "        'active_week_num': data_patch.loc[i, 'active_week_num'],\n",
    "        \n",
    "        'total_commits': data_patch.loc[i, 'total_commits'],\n",
    "        'total_files': data_patch.loc[i, 'total_files'],\n",
    "        'days_after_creation': data_patch.loc[i, 'days_after_creation']\n",
    "    }\n",
    "    patch_dic[key] = value\n",
    "\n",
    "for key, value in patch_dic.items():\n",
    "    print(key)\n",
    "    print(value)\n",
    "    break\n",
    "\n",
    "# preprocessing the data\n",
    "\n",
    "column_place_holder = range(data_size)\n",
    "\n",
    "for i in range(len(used_data_patch_features)):\n",
    "    data[used_data_patch_features[i]] = column_place_holder\n",
    "\n",
    "patch_keys = patch_dic.keys()\n",
    "\n",
    "delete_rows = []\n",
    "\n",
    "for i in range(data_size):\n",
    "    commit_id = data.loc[i, 'commit_id']\n",
    "    if commit_id in patch_keys:\n",
    "        # add some new data\n",
    "        for j in range(len(used_data_patch_features)):\n",
    "            f_str = used_data_patch_features[j]\n",
    "            data.loc[i, f_str] = patch_dic[commit_id][f_str]\n",
    "    else:\n",
    "        # delete this row\n",
    "        delete_rows.append(i)\n",
    "        \n",
    "data.drop(delete_rows,axis = 0,inplace = False)\n",
    "\n",
    "print(len(data))"
   ]
  },
  {
   "cell_type": "code",
   "execution_count": 47,
   "id": "logical-pencil",
   "metadata": {},
   "outputs": [],
   "source": [
    "\n",
    "threshod1 = 0.008\n",
    "threshod2 = 0.0025\n",
    "\n",
    "def foo3(x):\n",
    "    if x >= threshod1:\n",
    "        return 2\n",
    "    if x >= threshod2:\n",
    "        return 1\n",
    "    return 0\n",
    "\n",
    "def foo2(x):\n",
    "    if x >= threshod1:\n",
    "        return 1\n",
    "    return 0\n",
    "\n",
    "for i in range(data_size):\n",
    "    data.loc[i, 'bug_num'] = data.loc[i, 'bug_num'] * 1.0 / data.loc[i, 'LOC']\n",
    "    \n",
    "data['bug_num'] = data['bug_num'].map(lambda x: foo2(x))\n",
    "\n"
   ]
  },
  {
   "cell_type": "code",
   "execution_count": 48,
   "id": "automotive-incidence",
   "metadata": {},
   "outputs": [
    {
     "name": "stdout",
     "output_type": "stream",
     "text": [
      "the train size is 1429\n",
      "the test size is 253\n",
      "[23:39:18] WARNING: ../src/learner.cc:541: \n",
      "Parameters: { silent } might not be used.\n",
      "\n",
      "  This may not be accurate due to some parameters are only used in language bindings but\n",
      "  passed down to XGBoost core.  Or some parameters are not used but slip through this\n",
      "  verification. Please open an issue if you find above cases.\n",
      "\n",
      "\n",
      "[23:39:18] WARNING: ../src/learner.cc:1061: Starting in XGBoost 1.3.0, the default evaluation metric used with the objective 'multi:softmax' was changed from 'merror' to 'mlogloss'. Explicitly set eval_metric if you'd like to restore the old behavior.\n"
     ]
    }
   ],
   "source": [
    "'''\n",
    "created_at,\n",
    "updated_at,\n",
    "size, #\n",
    "stargazers_count,\n",
    "watchers_count, #\n",
    "forks_count, #\n",
    "network_count, #\n",
    "subscribers_count, #\n",
    "followers, #\n",
    "public_repos, #\n",
    "created_at,\n",
    "contributions, #\n",
    "author_id,\n",
    "LOC, #\n",
    "Add, #\n",
    "Delete, #\n",
    "Files, #\n",
    "bug_num  #\n",
    "commit_id\n",
    "'''\n",
    "\n",
    "\n",
    "feature_columns = [\n",
    "    'size',\n",
    "    'watchers_count',\n",
    "    'forks_count',\n",
    "    'network_count',\n",
    "    'subscribers_count',\n",
    "    \n",
    "    'followers',\n",
    "    'public_repos',\n",
    "    'contributions',\n",
    "    #'LOC',\n",
    "    #'Add',\n",
    "    #'Delete',\n",
    "    'Files',\n",
    "]\n",
    "feature_columns = feature_columns + used_data_patch_features\n",
    "target_column = 'bug_num'\n",
    "\n",
    "train, test = train_test_split(data, test_size=0.15, random_state=42)\n",
    "\n",
    "xgtrain = xgb.DMatrix(train[feature_columns].values, train[target_column].values)\n",
    "xgtest = xgb.DMatrix(test[feature_columns].values, test[target_column].values)\n",
    "\n",
    "\n",
    "\n",
    "print(\"the train size is {}\".format(len(train[target_column].values)))\n",
    "print(\"the test size is {}\".format(len(test[target_column].values)))\n",
    "\n",
    "params = {\n",
    "    'booster': 'gbtree',\n",
    "    'objective': 'multi:softmax',\n",
    "    'num_class': 2,\n",
    "    'gamma': 0.1,\n",
    "    'max_depth': 6,\n",
    "    'lambda': 2,\n",
    "    'subsample': 0.7,\n",
    "    'colsample_bytree': 0.7,\n",
    "    'min_child_weight': 2,\n",
    "    'silent': 1,\n",
    "    'eta': 0.1,\n",
    "    'seed': 111,\n",
    "    'nthread': 4,\n",
    "}\n",
    "\n",
    "# build the model\n",
    "num_round = 500\n",
    "bst = xgb.train(params, xgtrain, num_round)\n",
    "\n"
   ]
  },
  {
   "cell_type": "code",
   "execution_count": 51,
   "id": "unlike-death",
   "metadata": {},
   "outputs": [
    {
     "name": "stdout",
     "output_type": "stream",
     "text": [
      "over all accuracy rate is 81.02766798418972\n",
      "the model predict 88 commit as high risk\n",
      "61.0 of them is correct predition\n",
      "\n",
      "high risk accuracy rate is 69.31818181818183\n"
     ]
    }
   ],
   "source": [
    "\n",
    "\n",
    "# prediction and check the accuracy\n",
    "preds = bst.predict(xgtest)\n",
    "labels = xgtest.get_label()\n",
    "\n",
    "match = 0.0\n",
    "high_risk_match = 0.0\n",
    "high_risk_count = 0\n",
    "\n",
    "#project_match = 0\n",
    "#project_count = 0\n",
    "\n",
    "high_pred = 1\n",
    "\n",
    "for i in range(len(preds)):\n",
    "    # check high risk\n",
    "    if preds[i] == high_pred:\n",
    "        high_risk_count += 1\n",
    "    if preds[i] == labels[i]:\n",
    "        match += 1\n",
    "        if preds[i] == high_pred:\n",
    "            high_risk_match += 1\n",
    "    \n",
    "        \n",
    "# acc\n",
    "acc = match / len(preds) * 100.0\n",
    "print(\"over all accuracy rate is {}\".format(acc))\n",
    "\n",
    "# high risk\n",
    "print(\"the model predict {} commit as high risk\".format(high_risk_count))\n",
    "print(\"{} of them is correct predition\".format(high_risk_match))\n",
    "print()\n",
    "high_risk_acc = high_risk_match / high_risk_count * 100.0\n",
    "\n",
    "print(\"high risk accuracy rate is {}\".format(high_risk_acc))\n",
    "\n"
   ]
  },
  {
   "cell_type": "code",
   "execution_count": 55,
   "id": "correct-disposition",
   "metadata": {},
   "outputs": [
    {
     "name": "stdout",
     "output_type": "stream",
     "text": [
      "['size', 'watchers_count', 'forks_count', 'network_count', 'subscribers_count', 'followers', 'public_repos', 'contributions', 'Files', 'author_activity_in_last_four_weeks']\n",
      "\n",
      "['total_commit_num', 'buggy_commit_num', 'total_bug_num', 'active_week_num', 'total_commits', 'total_files', 'days_after_creation']\n"
     ]
    },
    {
     "data": {
      "text/plain": [
       "<AxesSubplot:title={'center':'Feature importance'}, xlabel='F score', ylabel='Features'>"
      ]
     },
     "execution_count": 55,
     "metadata": {},
     "output_type": "execute_result"
    },
    {
     "data": {
      "image/png": "[encoded data removed]",
      "text/plain": [
       "<Figure size 432x288 with 1 Axes>"
      ]
     },
     "metadata": {
      "needs_background": "light"
     },
     "output_type": "display_data"
    }
   ],
   "source": [
    "# data analysis\n",
    "print(feature_columns[0:10])\n",
    "print()\n",
    "print(feature_columns[10:17])\n",
    "plot_importance(bst, importance_type ='weight')"
   ]
  },
  {
   "cell_type": "code",
   "execution_count": 56,
   "id": "first-intranet",
   "metadata": {},
   "outputs": [
    {
     "data": {
      "text/plain": [
       "<AxesSubplot:title={'center':'Feature importance'}, xlabel='F score', ylabel='Features'>"
      ]
     },
     "execution_count": 56,
     "metadata": {},
     "output_type": "execute_result"
    },
    {
     "data": {
      "image/png": "[encoded data removed]",
      "text/plain": [
       "<Figure size 432x288 with 1 Axes>"
      ]
     },
     "metadata": {
      "needs_background": "light"
     },
     "output_type": "display_data"
    }
   ],
   "source": [
    "plot_importance(bst, importance_type ='gain')"
   ]
  },
  {
   "cell_type": "code",
   "execution_count": null,
   "id": "native-austria",
   "metadata": {},
   "outputs": [],
   "source": []
  }
 ],
 "metadata": {
  "kernelspec": {
   "display_name": "Python 3",
   "language": "python",
   "name": "python3"
  },
  "language_info": {
   "codemirror_mode": {
    "name": "ipython",
    "version": 3
   },
   "file_extension": ".py",
   "mimetype": "text/x-python",
   "name": "python",
   "nbconvert_exporter": "python",
   "pygments_lexer": "ipython3",
   "version": "3.8.5"
  }
 },
 "nbformat": 4,
 "nbformat_minor": 5
}
