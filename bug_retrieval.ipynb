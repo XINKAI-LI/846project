{
 "cells": [
  {
   "cell_type": "code",
   "execution_count": 1,
   "metadata": {},
   "outputs": [
    {
     "name": "stdout",
     "output_type": "stream",
     "text": [
      "the size of filtered bug fixing commit is 283\n",
      "7e0199edf41b5a70390ce922cc6a8d14f0fad482\n",
      "{'fixCommitParentSHA1': '3c9efede12cff4e4fdf5cf693d4f71c36cddbc4e', 'bugFilePath': {'src/test/java/com/puppycrawl/tools/checkstyle/gui/CodeSelectorPresentationTest.java': {81}}, 'projectName': 'checkstyle.checkstyle'}\n"
     ]
    }
   ],
   "source": [
    "import json\n",
    "import git\n",
    "from git import Repo\n",
    "\n",
    "\n",
    "f = open(\"sstubs.json\")\n",
    "sstubs = json.load(f)\n",
    "\n",
    "repo_list = [\n",
    "    'https://github.com/spring-projects/spring-boot',\n",
    "    'https://github.com/checkstyle/checkstyle'\n",
    "#     'https://github.com/iluwatar/java-design-patterns',\n",
    "#     'https://github.com/square/retrofit',\n",
    "#     'https://github.com/square/okhttp',\n",
    "#     'https://github.com/zxing/zxing',\n",
    "#     'https://github.com/libgdx/libgdx',\n",
    "#     'https://github.com/google/guava',\n",
    "#     'https://github.com/alibaba/dubbo',\n",
    "#     'https://github.com/jfeinstein10/SlidingMenu',\n",
    "#     'https://github.com/netty/netty'\n",
    "]\n",
    "\n",
    "repo_name_list = [\n",
    "    'spring-projects.spring-boot',\n",
    "    'checkstyle.checkstyle'\n",
    "#     'iluwatar.java-design-patterns',\n",
    "#     'square.retrofit',\n",
    "#     'square.okhttp',\n",
    "#     'zxing.zxing',\n",
    "#     'libgdx.libgdx',\n",
    "#     'google.guava',\n",
    "#     'alibaba.dubbo',\n",
    "#     'jfeinstein10.SlidingMenu',\n",
    "#     'netty.netty',\n",
    "]\n",
    "\n",
    "# get the fixing commits belong to the repo_list\n",
    "# key: bug fixing commit's id\n",
    "# value:\n",
    "#  bugFilePath: the path to the fixed file and line_nums (dic, can be multiple)\n",
    "#  fixCommitParentSHA1, parent_commit_id\n",
    "\n",
    "\n",
    "filtered_bug_fixing_commits = {}\n",
    "for bug in sstubs:\n",
    "    if bug['projectName'] not in repo_name_list:\n",
    "        continue\n",
    "    commit_id = bug[\"fixCommitSHA1\"]\n",
    "    parent_commit = bug[\"fixCommitParentSHA1\"]\n",
    "    bug_file_path = bug[\"bugFilePath\"]\n",
    "    bug_line_num = bug[\"bugLineNum\"]\n",
    "    \n",
    "    if commit_id in filtered_bug_fixing_commits:\n",
    "        # old commit, check if new file path\n",
    "        if bug_file_path in filtered_bug_fixing_commits[commit_id][\"bugFilePath\"]:\n",
    "            # old file path, check if new line num\n",
    "            if bug_line_num in filtered_bug_fixing_commits[commit_id][\"bugFilePath\"][bug_file_path]:\n",
    "                # bug already exist\n",
    "                continue\n",
    "            else:\n",
    "                # new bug in old file path\n",
    "                filtered_bug_fixing_commits[commit_id][\"bugFilePath\"][bug_file_path].add(bug_line_num)\n",
    "        else:\n",
    "            # new file path\n",
    "            filtered_bug_fixing_commits[commit_id][\"bugFilePath\"][bug_file_path] = {bug_line_num}\n",
    "    else:\n",
    "        # new commit\n",
    "        filtered_bug_fixing_commits[commit_id] = {\n",
    "            'fixCommitParentSHA1': parent_commit,\n",
    "            'bugFilePath': {bug_file_path: {bug_line_num}},\n",
    "            'projectName': bug['projectName']\n",
    "        }\n",
    "        \n",
    "# print(filtered_bug_fixing_commits)\n",
    "\n",
    "print(\"the size of filtered bug fixing commit is {}\".format(len(filtered_bug_fixing_commits)))\n",
    "# print a item in dic\n",
    "for x, y in filtered_bug_fixing_commits.items():\n",
    "    print(x)\n",
    "    print(y)\n",
    "    break"
   ]
  },
  {
   "cell_type": "code",
   "execution_count": 2,
   "metadata": {},
   "outputs": [
    {
     "name": "stdout",
     "output_type": "stream",
     "text": [
      "the size of fixing-inducing pair is 283\n",
      "7e0199edf41b5a70390ce922cc6a8d14f0fad482\n",
      "{'bug_inducing_commit_ids': {'0d792c39883fe3a41ee5875114d1efa6c4801b13'}, 'project_name': 'checkstyle.checkstyle'}\n"
     ]
    }
   ],
   "source": [
    "fix_and_bug_introducing_pairs = {}\n",
    "for key, value in filtered_bug_fixing_commits.items():\n",
    "    repo_name = value[\"projectName\"]\n",
    "    repo_path = \"/Users/air/Documents/CS846/\" + repo_name.split(\".\")[1]\n",
    "    repo = Repo(repo_path)\n",
    "    repo.git.checkout('master')\n",
    "    \n",
    "    parent_commit = value[\"fixCommitParentSHA1\"]\n",
    "    for path_name, line_nums in value[\"bugFilePath\"].items():\n",
    "        for line_num in line_nums:\n",
    "            line = 1\n",
    "            for commit, lines in repo.blame(parent_commit, path_name):\n",
    "                if line <= line_num < (line + len(lines)):\n",
    "                    if key in fix_and_bug_introducing_pairs:\n",
    "                        if commit not in fix_and_bug_introducing_pairs[key]['bug_inducing_commit_ids']:\n",
    "                            fix_and_bug_introducing_pairs[key]['bug_inducing_commit_ids'].add(commit.hexsha)\n",
    "                    else:\n",
    "                        fix_and_bug_introducing_pairs[key] = {\n",
    "                            'bug_inducing_commit_ids': {commit.hexsha},\n",
    "                            'project_name': repo_name\n",
    "                        }\n",
    "#                     print(commit)\n",
    "                line += len(lines)\n",
    "    \n",
    "# print(fix_and_bug_introducing_pairs)\n",
    "print(\"the size of fixing-inducing pair is {}\".format(len(fix_and_bug_introducing_pairs)))\n",
    "# print a item in dic\n",
    "for x, y in fix_and_bug_introducing_pairs.items():\n",
    "    print(x)\n",
    "    print(y)\n",
    "    break"
   ]
  },
  {
   "cell_type": "code",
   "execution_count": 3,
   "metadata": {},
   "outputs": [],
   "source": [
    "data = []\n",
    "for key, value in fix_and_bug_introducing_pairs.items():\n",
    "    project_name = value['project_name']\n",
    "    commit_ids = list(value['bug_inducing_commit_ids'])\n",
    "    data.append({\n",
    "        'bug_fixing_commit_id': key,\n",
    "        'bug_inducing_commit_ids': commit_ids,\n",
    "        'project_name': project_name\n",
    "    })\n",
    "    \n",
    "with open('fix_and_bug_introducing_pairs.json', 'w') as outfile:\n",
    "    json.dump(data, outfile)"
   ]
  },
  {
   "cell_type": "code",
   "execution_count": 4,
   "metadata": {},
   "outputs": [],
   "source": [
    "bug_fixing_commits = []\n",
    "for key, value in filtered_bug_fixing_commits.items():\n",
    "    bug_inducing_commit_ids = list(fix_and_bug_introducing_pairs[key])\n",
    "    locations = {}\n",
    "    bugFilePath = value[\"bugFilePath\"]\n",
    "    for path_name, line_nums in bugFilePath.items():\n",
    "        locations[path_name] = {\n",
    "            'count': len(list(line_nums)),\n",
    "            'locations': list(line_nums)\n",
    "        }\n",
    "    bug_fixing_commits.append({\n",
    "        'bug_fixing_commit_id': key,\n",
    "        'fixCommitParentSHA1': value[\"fixCommitParentSHA1\"],\n",
    "        'bug_inducing_commit_ids': bug_inducing_commit_ids,\n",
    "        'bugFilePath': locations,\n",
    "        'projectName': value['projectName']\n",
    "    })\n",
    "    \n",
    "with open('bug_fixing_commits.json', 'w') as outfile:\n",
    "    json.dump(bug_fixing_commits, outfile)"
   ]
  },
  {
   "cell_type": "code",
   "execution_count": 5,
   "metadata": {},
   "outputs": [
    {
     "name": "stdout",
     "output_type": "stream",
     "text": [
      "b569918db1c33847ce1d1464d7d78f692f289e99\n",
      "['\\t@ConditionalOnEnablednHealthIndicator(\"db\")']\n",
      "{'b569918db1c33847ce1d1464d7d78f692f289e99'}\n"
     ]
    }
   ],
   "source": [
    "ln = 156\n",
    "tlc = 1\n",
    "commits = set()\n",
    "for commit, lines in repo.blame('69fcae6b44cb9443bd970f89f7215258d6092bcc', 'spring-boot-actuator/src/main/java/org/springframework/boot/actuate/autoconfigure/HealthIndicatorAutoConfiguration.java'):\n",
    "    if tlc <= ln < (tlc + len(lines)):\n",
    "        commits.add(commit.hexsha)\n",
    "        print(commit)\n",
    "        print(lines)\n",
    "    tlc += len(lines)\n",
    "print(commits)"
   ]
  },
  {
   "cell_type": "code",
   "execution_count": null,
   "metadata": {},
   "outputs": [],
   "source": []
  }
 ],
 "metadata": {
  "kernelspec": {
   "display_name": "Python 3",
   "language": "python",
   "name": "python3"
  },
  "language_info": {
   "codemirror_mode": {
    "name": "ipython",
    "version": 3
   },
   "file_extension": ".py",
   "mimetype": "text/x-python",
   "name": "python",
   "nbconvert_exporter": "python",
   "pygments_lexer": "ipython3",
   "version": "3.7.4"
  }
 },
 "nbformat": 4,
 "nbformat_minor": 2
}
