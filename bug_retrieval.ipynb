{
 "cells": [
  {
   "cell_type": "code",
   "execution_count": 65,
   "metadata": {},
   "outputs": [],
   "source": [
    "import json\n",
    "import git\n",
    "# from git import Repo\n",
    "\n",
    "\n",
    "f = open(\"sstubs.json\")\n",
    "sstubs = json.load(f)\n",
    "\n",
    "\n",
    "bug_fixing_commits = {}\n",
    "for bug in sstubs:\n",
    "    if bug['projectName'] != \"spring-projects.spring-boot\":\n",
    "        continue\n",
    "    commit_id = bug[\"fixCommitSHA1\"]\n",
    "    parent_commit = bug[\"fixCommitParentSHA1\"]\n",
    "    bug_file_path = bug[\"bugFilePath\"]\n",
    "    bug_line_num = bug[\"bugLineNum\"]\n",
    "    if commit_id in bug_fixing_commits:\n",
    "        if bug_file_path in bug_fixing_commits[commit_id][\"bugFilePath\"]:\n",
    "            if bug_line_num in bug_fixing_commits[commit_id][\"bugFilePath\"][bug_file_path]:\n",
    "                continue\n",
    "            else:\n",
    "                bug_fixing_commits[commit_id][\"bugFilePath\"][bug_file_path].add(bug_line_num)\n",
    "        else:\n",
    "            bug_fixing_commits[commit_id][\"bugFilePath\"][bug_file_path] = {bug_line_num}\n",
    "    else:\n",
    "        bug_fixing_commits[commit_id] = {\n",
    "            'fixCommitParentSHA1': parent_commit,\n",
    "            'bugFilePath': {bug_file_path: {bug_line_num}}\n",
    "        }\n",
    "# print(bug_fixing_commits)"
   ]
  },
  {
   "cell_type": "code",
   "execution_count": 66,
   "metadata": {},
   "outputs": [
    {
     "name": "stdout",
     "output_type": "stream",
     "text": [
      "[<git.Head \"refs/heads/master\">]\n",
      "{'e3c87cba0bbed00c739e01599e29a5621c9ef3b3': {'b7e092e821021b7c0dbd91eacfe369181bfa28b8'}, 'ec57f0c31f8c41db175aa7dcaab5089c22b2a8a8': {'b7e092e821021b7c0dbd91eacfe369181bfa28b8'}, '0187e5106dfc5034b8b1650083eab37181ff0de3': {'eaad22dd89dbabf9fdd896956e3276a9f180b9aa'}, '1ec8e822a17c37826b0a5df3b79ca03b4b528f1c': {'fb0fccf3c7e1b1290ef64a1d2c388d788a5a965e'}, 'b6754f6f20ef786da0ecb542fe8b14bc01b88d62': {'e184298c50a0089336516933e5a6ce11a60df383'}, 'b7ceb6548fc986277173ca79065914877f1cc007': {'c6c139d980a50a1b39e564d44a1df6d46f8ca11b', '68a3fbd7a0453b815966db4353405a0b5e2303d3'}, 'eb9527a17038c6a44b4e1afa1fd82eb195baacb8': {'c6c139d980a50a1b39e564d44a1df6d46f8ca11b', '68a3fbd7a0453b815966db4353405a0b5e2303d3'}, 'b7e092e821021b7c0dbd91eacfe369181bfa28b8': {'7857dd2d7230ab48c53e8648c23647e3b793b895'}, '4083c721f2ee2ce54c624488a49ed08f7c3b3c39': {'d5370e6852cb61e333369127a517474de2a7ec58'}, 'f4d9e1c650ee6988bcd1807aaf02b74e3779358b': {'c2d1cb2c701f3c0dd06a6db298cd78e06d039c8f'}, '1d5647b92215f0ceabced59275225ad829061663': {'a06de4d997103b377af349b392626cb2c18c31bf', '44dde9fc1247e3640dbefe952f3dd6746e579eac', 'cb7ae2e60aa2b9aefcdb166ac36d85a11d675990', 'c4122b8f8d77585c04be7c0edf7090340ffc8873', 'fc9036a3d9398f7539569f6b436dd827413ff125'}, '35dc7982d28800b4fecdf0772236a2d8e054aa77': {'a06de4d997103b377af349b392626cb2c18c31bf', '44dde9fc1247e3640dbefe952f3dd6746e579eac', 'cb7ae2e60aa2b9aefcdb166ac36d85a11d675990', 'c4122b8f8d77585c04be7c0edf7090340ffc8873', 'fc9036a3d9398f7539569f6b436dd827413ff125'}, 'eb38c3abb7ae175463795acf51ebdcd03b995078': {'dcf61abe30026b67ec73ad8dace4058aef2cfcdb'}, '0b4934d140f64feb7a8a995ab4e66d990dbbf931': {'d7251f52a44141d136b24fd90e06e46213a7e94d'}, '1f897ad92326cf7a9964ecb59859c18a5dab64bf': {'d7251f52a44141d136b24fd90e06e46213a7e94d'}, '09acbc1a4f78be8e64a6d28918ad5c6ac08dc753': {'67556ba8eaf22a352b03fe197a0c452f695835a6'}, '360da663337be5eb31a54a601b39034e3a3516da': {'67556ba8eaf22a352b03fe197a0c452f695835a6'}, 'c115ee1550ecf4bc8164e59a4f69b59addd50cc6': {'fd5c43cdc97a3b17234a139b566a96eabd282639'}, '9c3af103e09bdcb4addeab973881eb27bc91722d': {'361437f4e26a751b38a01f1f6c58ab6d9b24cb71'}, '03beed603c34a396476e61622dc0dbe01c71152e': {'361437f4e26a751b38a01f1f6c58ab6d9b24cb71'}, '7beb64043d3acfed32f37c0470ede1d3ac03e697': {'978f80122b9138f5606bd9e33597807b90129d61'}, '7bdcee5e3dfc368e8ba9c5752aa07d049ca5b5ae': {'ab4baa3c4393a121bcbee1b9f4b14ef40361fad0'}, '48295e16fc304221123fc38f9c492d711f05c897': {'ab4baa3c4393a121bcbee1b9f4b14ef40361fad0'}, '5bb7b24d7c6a389e4d33660e88c12634c846af3e': {'d52b599eee5193502e27a3f5805c18cba37ddbda'}, '2b6bdfe2771b1db83f51c33911eaa4130ff73769': {'8c896d93761999ad0de655e10ecdc5caf7fe0759'}, '7f35f8a98258ad87aebe45b6b9a88e269d19e5de': {'d0de4657d4fa7c0b181a2d6ef05402deee5b5785'}, '5323095e44d8e2a7d10a9dac61ecb5593c9b4dec': {'3273859fdeb432e6b2b9de617f7df4ee412f4788'}, '7c3d863cf7e5c361a71e35e850ffc72550ada997': {'9a9111af2132ff50afe4aa0704be4bce19cf76fa'}, '000cb943238947fec086ac7f64054182b7a1c9b9': {'43acc37587977b18a3eb27c6aff716e904e320e6'}, '43acc37587977b18a3eb27c6aff716e904e320e6': {'9a9111af2132ff50afe4aa0704be4bce19cf76fa'}, '5bf9d31d91a6e45bed5cf0e878431004765c9b86': {'d6b6a5f81f1f4790f45318522c856e9e78f23510'}, '514398e8c8316d890034adffbfbaf2fc0208d9e2': {'e57b0e00f24a4e0d5ac3120f56aaa1991064b48f'}, '2399092f1615195ec95b98e9a0a35df821bf000b': {'e57b0e00f24a4e0d5ac3120f56aaa1991064b48f'}, '9b60eef0e2e02c5ebbb2d33db3e7dbb1809a1b03': {'497457c397d9c45b127285c5cc3f2ba36aa5b890'}, '9de2d1f83961a6ede9fa5bdf249c41253116374c': {'717bd2c58099e3ff9b5de66bc8e6076436f3ef31'}, '17bcd1c3598c5eb22f705e5c523a3deb66f54ea2': {'717bd2c58099e3ff9b5de66bc8e6076436f3ef31'}, '6556bb2e8912717a00e781b483c8d83f72a69571': {'975e986fef1517b80eaf280edf24409ff79c5f8e'}, '3cf2913580b49ddde420be7442e806aba7766da3': {'d7251f52a44141d136b24fd90e06e46213a7e94d', '138d66706a771339b2afe0809a5544c06c62f1f5', 'a3f978793ec37319fee889f2727f5712416ff45e', 'aa696210789b88ab30a6100ead42d77c3f2ccf4c'}, '74f9a84ea9679e743f44a5a743b235c3266958e3': {'d7251f52a44141d136b24fd90e06e46213a7e94d', '138d66706a771339b2afe0809a5544c06c62f1f5', 'a3f978793ec37319fee889f2727f5712416ff45e', 'aa696210789b88ab30a6100ead42d77c3f2ccf4c'}, '7f85322ddd398c35fdae14efada0c631d35f32f5': {'3e4da3cc3761d0e28a22e8d370ce76d3132ca84b'}, '3076a5523ab2c1be078a2acef416fd3a7cb04009': {'0925a0957e6643e97683e22bd9c741cf9c2bb08a'}, '8c24988faaaed2d46433ab097eae29c105d6a16f': {'0925a0957e6643e97683e22bd9c741cf9c2bb08a'}, 'd2418b99ef96450104f978d8e50c7ca762235080': {'5de46c3186b8eaad82636c59bfa071270ea686c9'}, '7ea6af0e460f175e764e9821c717fc9209250beb': {'24d086066b8960ea3f98e2af73e3dcae10ae11c4'}, '1e3bae9ba27a215654cfe28b81bfa933458168c1': {'7d5e41f7dcb5a6edddfcd6742049342fb23c0000'}, 'bd7bd6edc871d515c41d9c33f7593849f4d3dc40': {'8f4bf233b4895a4fade5aff41e0a309f90ba3193'}, '2f6aca222e49ea1564ecb123485fdd75037028cb': {'72862b565ce507c75efb978a5bbe235e5f2094bc'}, 'f59fbe6f81996df3541a69a1827c397bbb099886': {'a5ae81c1c195588d08d36b5a4c29a83d101e6f76'}, '61bbaf140c267d8bb80f57e9a1c2eb4994bd0962': {'eb045f1da13083cf2cd6f4d45184c252969be76c'}, '7388b4b76881e97b9e80396c847aae4f6f72c4f3': {'f1c5fc41b443abe8321946a12d03ad7d7bf6aeea'}, '87b554d0620d5607b8ef0adcd3931c00a61588d0': {'06a7ab0cd5f3036e7ece4edf7c80428874afc362'}, '1745a5ee6f81fba376110785ddd8546318bee689': {'06a7ab0cd5f3036e7ece4edf7c80428874afc362'}, '51c2b049c21582fcf9db82244063e67196cabad5': {'8e3baf3130220a331d540cb07e1aca263b721b38'}, '53fd1f7f2e34c70008553640fdf2123e41a02592': {'d4f87ae74eb887fb0f3c87ebfeebf19cc025f73f'}, '6cdb02050d2081f4fd265e80737b9736440c3c17': {'bd83aca63f62f4ff089567272a85d565a7a0791d'}, '134e93f3fdbb528145fbdb0efd245b3128fec5ce': {'deaa6089b0019da0f4ada042da91c857c46d1551'}, 'df2d6b370eaa8d29822b928b0f307cb6918dfe4f': {'deaa6089b0019da0f4ada042da91c857c46d1551'}, '595fada2ff221b76c33da09b327973ed6a17ad2d': {'5e4238f38a4fd785c6a04dd11f23f49fdff2c286', 'd2678e08deab3c69d980fe80946e0fbd2c935f18'}, '1266642aba9a297e0872324c1e72c72a38e0e485': {'5e4238f38a4fd785c6a04dd11f23f49fdff2c286', 'd2678e08deab3c69d980fe80946e0fbd2c935f18'}, '902905ad10c58669fe4e3950e8a4df7abe451765': {'8b04973244e14dae61178986d0ae10c8c379bc7c'}, 'da8362a2da7950fb84cba182a17a41e3b5152668': {'1b17677e0b5bb326840c033825c236e3366562cb'}, 'b3203058be9aba7abbbfa8091413a75603b270bc': {'1b17677e0b5bb326840c033825c236e3366562cb'}, '8c31000efa3e7745855734a2babc18fc0ab20bed': {'fa6a13859871b418d1e01fe3f8579b1bf8c5825e'}, '09998d1155cda1399a7624c7ed79b4611d974c4b': {'fa6a13859871b418d1e01fe3f8579b1bf8c5825e'}, '4fa38aeba48a4f6641e48b3f73e1bc0c55c18156': {'10dbf3c571258bcc788d4fd091aeb42b3c011da6'}, '28474aa30adebc397ecdb993d62317e5659fce4a': {'642af52d0169577a98513c6489c74a47736c9d95', 'b6b8bef009ae855be1cd6b57ac2a898c943d8a2d', 'c4188c8e4a480cd65b080d2738fee099da01fc62'}, '6ccd858fc04359c5d203278b25ad3d9f1f53a662': {'77a1a3b3c08d8087c0e6ec8d921dac4bf55bf11f'}, '1be5812cf0e582602dedd34a2bbc450c42b0e3bf': {'468728a2c06a482621e7a9295b2d839cc4fc6b95'}, '264d8442da6fcd6598bce079f131c703e541f9c0': {'c5cc626d48d7167095f37b3ba938bf9a6167a734'}, 'b269ab0e4a5f37fe03ccfb33580a9f9b069be67b': {'e07df7e4c6d69b5be6c56e76b854e1a3c7436e89', '582239b03bdf8f041f9e13bb2fa0628081e51860'}, '284988f0cd9275e98b31a72440965fb4ce60c1c8': {'868589366e5428d6ba79ee26be5ef94602e5aa85'}, 'dcfe2673fd99ff60400ead9c83e338c358e2d1b3': {'a5ae81c1c195588d08d36b5a4c29a83d101e6f76'}, 'a3c63b9c34127ab54702729be4e9525443712ed8': {'00d594dcda6edbd7086b888e60bd0aa6562ad2e7'}, '6ec3648a10965a2c74c9a595a4c7962aadb7e288': {'0e00a49dcc246893fcaf1c7a0497fac6dcbc7454'}, '11aa4d074970a5486181b0551abca1870ddeac4c': {'0e00a49dcc246893fcaf1c7a0497fac6dcbc7454'}, 'd720645275e1ecf44840e543f1245811a764674c': {'b488a3d9a3b6adb9991e889d02b3c7244d9a17e2'}, 'd62827373de0f2971ef8e4b39efbb8735dda64f3': {'296dc7132b8e444df0e6173740fa6bba5a5f1bd1'}, 'a2d8a769ab7b2293522223d214d6cfa7b8abd922': {'53be0f8db7688d0cd6c5a743897b1cc7be293a89'}, 'a3b29b0e4224dbf423b50fbaad5e7ad793be6612': {'b1db714c2313b93cc5c6805d579990589cb2a2a6', 'a5ae81c1c195588d08d36b5a4c29a83d101e6f76'}, '1528764194aced9df27bc34847de70e0fcd0c268': {'48db5457f1060786011c0a46abea8fa9a9e05307'}, '0fa4d2e2604eef5128a5324498eaf90bce45b267': {'7fd26a556d31d3a24f789b1e19f126ecba147d13', 'd01154c212791d22d91a6c883e4d7ffea9ba9d5b'}, 'e1d74627f527eb147f041030d9b853190a5c1046': {'81d56355715a58b511257eb79a3059477652138e', 'eb3180d581ae372d073c18d6c3d34cc47a2139c8', 'bbc91cc03f5df31c1985811d07abe4f9a906355e', '2eafb3d88721e34490763d0c4ea14f17abebd736'}, 'a258a1045c85126aae00cfbac5b48d19e8d533fa': {'bbbb34a6900b0df4751e0e9a2b18f5c0353d6702'}, 'c84e09f6119233d59ae42a89eb8adc65202db69b': {'bbbb34a6900b0df4751e0e9a2b18f5c0353d6702'}, '727dd12852290f48840a8aeac91c37823112bdc7': {'b5679594826e7b609524bea1c4ac7806af62bd5a'}, 'dacf0f9826f67cbb4f6773c79ebacbaa1b9deb03': {'a95568d3e8ef96c3a37e1ca675facded0cb16b9c'}, 'af39d558ff5ca71fad662cc1fc7bb2927640751c': {'a95568d3e8ef96c3a37e1ca675facded0cb16b9c'}, '8542f4f48129db5b410b7db7e30f05fa011f05f5': {'53f67a448f8ef7a47ca5c472c26e1c1a1ef19359'}, '6121d105fc56c57636b98ecc7504caff978bcd14': {'87fe0b2adeef85c842c009bfeebac1c84af8a5d7'}, '8d08e816a79a7390dc6ba086d5709f1049b5807f': {'6c4ee0b05d67aa65c2cfe5b20c6509d2a8fc58ec'}, '9bf95c4215ed2dc53be742e94be9ed4b08db8c82': {'1ce617f1ae649e5b045b6227d4761f98e2c3c240'}, '9f93559d44b581db765aa43e828c991a8cf91ca1': {'1ce617f1ae649e5b045b6227d4761f98e2c3c240'}, 'df64a74e607cf5387b1ef63e7c3026f4212e3ce8': {'00d594dcda6edbd7086b888e60bd0aa6562ad2e7'}, '5ef690369074888234a9616483d26e4637a126a8': {'cca0b76ac8b9485a73f0a573a6f9edb08523198c'}, '72754c27b271416d3c8ee7497fa7f88abff393f8': {'ac54d7fe3cbce1d25be8cb300d2941657a8a7604'}, '3e7863d4b4b4c8b8ddd529c5f47a055e1d5aad6b': {'447edd2c4eafde6d478690394a78cc936e9ef37c'}, 'a3fac379046d9a9ff4225350c54afc931ee42a80': {'a1b1cdb18f241b73f9cf4128ec599c2df4e3d983'}, '49a5587558d8183f5a054156f59a8bd5bacc9c67': {'d950d15f9b121ef1c0c4948543dc3d4836f66c4f'}, '86c753a14931a2cace312a5c55ee139feb5ad012': {'c9fb9916b83133bd7e6dee9bdd7b27d175f495ab'}, '00e207dcaf3730835f09c8be85c8e48b725c82a6': {'c9fb9916b83133bd7e6dee9bdd7b27d175f495ab'}, '180815445c5271dbee42d1983e7724d95b2b38a6': {'36d4246289689cce081e3527930b9f4e40fb6d50'}, '028fc047779c1457071501b6437fe9331466c6d0': {'06f3202c68a9440cf5370a237704fcd76f55ee86'}, '44c122307e968c2aabc4a89d410c804c632246b1': {'af33cc2b97bd4eb153bb55f1ded06cc82e707027'}, 'd10dd137149cea58a3b085abe116a1ca2cb69b67': {'3911ce3e2992251c211e962ddc7e57ec798c3268'}, '3174f898c6f3256427d08907ed4b8a1ad6513df1': {'22e0a50a11cbcfaaf130f08a7f8fa53d89e9579b'}, 'a5430d8a0c8367c5c0646da6b78374295bd33737': {'b542aa3de638aa24a1610b388aaf5aab253decc3'}, 'b7e9f805c94e67b56d9c3a9cc201c19dc2e759f9': {'d42bedf295cfad3a9edbb3e0a032c14629737460'}, 'bd942a35fbf90739b19b5d1e292bed63cfc0a865': {'fd97c7553c8caef286ada0de8ac7490bec7286e8'}, 'b3c2d1521f396a5d30a132be0d4e6d648ddc6444': {'7ceb7ce6f6593b4da47205dab42cd3fd47573471', '31d6a0f17a66e5342b9d2337cffdbcd3c6f2b6cd'}, '3ec97c1bb9c55bded42db23e7b2d3e614659f7df': {'7ceb7ce6f6593b4da47205dab42cd3fd47573471', '31d6a0f17a66e5342b9d2337cffdbcd3c6f2b6cd'}, 'e7bf415427b37bbc760ff9b9c69650db8ec477e4': {'b569918db1c33847ce1d1464d7d78f692f289e99', '891dd5a0f6c23d11fb876bcceda79690e7c8efa9'}, 'e2119d33293008fcc876f5fcd58ede2993eb24d6': {'b569918db1c33847ce1d1464d7d78f692f289e99', '891dd5a0f6c23d11fb876bcceda79690e7c8efa9'}, '1e3c0da4bdd228f518ad7297096fdc26c9d53ead': {'12b876fbfa2de81f18dba9d3c6dbe530fc81782d'}, '7dc9bddf9a64d9309755accddeb91976371792ed': {'12b876fbfa2de81f18dba9d3c6dbe530fc81782d'}, '178c690d37e7a329ad0a7a9349f3950f57dc4dde': {'884c058e573ff3bf3824aea414f56485d514d00d'}, '68d875bdc642856e2c47d67183bdf6a05cfc4895': {'9ebe15232e20e61edc91089dd0a88d3bcf5f7524'}, '4dda1814e2539a3c4014b20fe14a5f99f616b293': {'151220f41d1108c9b84f98c6d8eddc710a0d5863'}, '3de25164527f5011df4ea2c889794a7c72bcf5ce': {'f6f8c26f698d95ef4ce014e8a5024acd105b1a2f'}, '94e41b41908f47ecde2ec9d7ad0021eb6af4cf04': {'74e9e0749bcd54053a6a4afc534209060a3ae294'}, 'bbb27cf272ba5d2dc74f8f21d1d3a92486e27ee1': {'5a69bb92677e7ccfa250a8a6edd951a8961c6137'}, '6d5ff33bdffa1e4a8b9e9c999604a9a84dc9426c': {'5a69bb92677e7ccfa250a8a6edd951a8961c6137'}, 'dc94fafaaa5fceb5a2ccaae7342bdf4030e05d14': {'fcea5654334001cb5faadfee3a7b8986f6e215ee'}, '91ce0abe48c7670f567f7b6584883d56fd3306cf': {'6dcaec2fefeb45436d1830485796295f7e9ce815'}, 'c9c1e8b5173d3dd69475f7a1711606ffaf7f88a8': {'18cecd077d6d3672806788e359a93365530403c4'}, 'dfdb8015332767b0678bff667e07b82a084a86fd': {'523956e2fec5c2b8e7221c7610937ebe3902f4bf', '7bea9dd973daf425e40ec458433a51188e220b3f'}, '5f959c557973923b797770cac7e01032e89d63c9': {'d4b75edfbf1c36def40e1b568a4342675337de65'}, 'bfa984ccd5ef4b7eef802f54999fc947531ef51f': {'4cf9e0457f271aa2de6cdf2a6cc27a1bcb011e5b'}, '9f31e09cf0eb035341103471b0e51df96ac9f13c': {'6a423d7ad1f06c976e2093ee595b04f61ba5e1de'}, 'd33c0ebf8f8f52fb6fb82d615cec50a10627d267': {'65e9d6a6e00c5b93778d6bb2a449d52ccfc6b122', '7681d0841ff48f404b891ec8958b90e91d217b2e'}, 'b519eda44120933736f9fa62d75bba0c1ed47b3d': {'13e040c06e18021e4ba081dcb0d0d68e58b03274'}, '0757d24d91bfe9ea2256c19aa798a5fa10bb6692': {'6ad626de491fe36df67d74ef17baf63d4125e10a'}, '354389932a2848f5b2d04a511db5b4e5219026d9': {'53be0f8db7688d0cd6c5a743897b1cc7be293a89'}, '57a4cb1aeef2b6106549c5374f52725c3a4530d3': {'9fde0a3715d00c1a3fc968b856db036ca4a8845c'}, '0b116a1a5ac6a369ab9622dce95c969ee591b809': {'c347972729e3145359786fe2a6eb557f5f3ad2cf'}, 'b85926e6f0e68368db83db38fca9e33d36796cac': {'53078c320e3273bc5ac567dd6d4852962b9111aa'}, '0ff511d978c273a8eae317ecf9f4f1b98e2efb07': {'042e512d3dd4460b3975e50deb1285ac656dd9f4'}, '8d5f26f6bd0e273649ccf2d4a37308317c0c4612': {'912d5cf40b19b9744758b3eb9b72515b563eeff4'}, 'fae9ab4140b56123177d498845b738b3bb53808d': {'437fb75424d1a2d852aec0a3cd16b55c3080cf30'}, '99971a65787b0d8e46de459b93f9378e351f5bf0': {'0c2bc99af373ab9b03ab15b3bb58c57b0c3b56b7'}, '20e08494aed42b7c4bcb12765b7599568601ebaa': {'d01154c212791d22d91a6c883e4d7ffea9ba9d5b'}, '51496b4e4f41da1a5bf6811874d23b20f16de03d': {'bfe4240ed26b1c61692bc5f76857fcb300ed484e'}, '6fbafc3ca487c2cf42630a471286334966355b43': {'b19f6bb238cd25b416ecb1c6e1c1993372c335f1'}, 'c4ffe721c786c54074a6913cb889d46e83bb32c1': {'5801e422cf6d011a405ca174cbe3b704637bb395', '22e397cda29bbfe89c0da01341d5b3fb7514ed11'}, 'b75894aec218a045bd91652840f07f0aecf01a73': {'bae26e2c0780d6fbbddb615bdd3da06d06b9cb96'}, 'b21fdd34632473bb239d13472462831ccfbd556c': {'e53dad879d4a560a1b67fd70fda68f96c6cfbd19'}, '373e2c51564a4c2cca306394ba52e5bcde839cfd': {'d205d9404af309af2ae60f1838dda97030b3ee6b'}, 'c68902260ebcdcdcfddc3b95f5a263405c17846b': {'2dc296caa9bccb3bd64807b843e578b6cee18c3e'}, '6c8e81f8706f6e5f13027ba63fc667f1f0e2b488': {'13e040c06e18021e4ba081dcb0d0d68e58b03274'}, 'af458cb253d67fff55a0c70f926fa58fcb800378': {'929bd902be7b6625eb44dd7c4b6d7b2e1671c10a'}, 'e48ddaeb99490ab08b409f4513a00b21b6f5eac0': {'f1026b120202d80f18ca80342a501faedc8539c0'}, '023faf092faa11ecde2c17cb7ff37b1f09cccce2': {'8c347fc99be62e0f8ce6413d0e830f901bc1e97b'}, '17de6689ab43b6d8fc8b60b87eb1155ba55b26f6': {'e60efc7e55933d22ac5d614fd59af64aacabdb5f'}, 'f9caade3cc3b25e35c12e7ebb1766bd9c9c369d1': {'6b599b8483e2fad1b679d937bf8de6d4eb269462'}, 'f8d58022301347c8a9790013e38dfc1d5d4037e7': {'2752177fba54f88d17c69f2c588a59a238ca9c2b'}, 'e6c1586717135f4d22f0a03177a1b7b994d5da95': {'840fdeb50ffce95574a3f291dccae934c0e9119c'}, '8c7c5d4dc981cb21d4151379d0e6b9e5c131d7ec': {'0e798a32aaafe859d1e01495578b0c527421dc73'}, 'd64a44547c2b2b69c771b16d9ac4e1ef5f8d8ce1': {'68e84f7d0214147b1b5aa7160b879b3abedfb43d'}, '638a31f5e3b396907e2543fc72b68fc257d3c352': {'628a8c79aa4ba4b9dbf049dde7ec91eea7533300'}, '19c2a076c25faf94ae9e8f4072f2a4590c9ee1fe': {'fb6b2244707dd5dfad12d62cb6a3c396555270d1'}, 'f8c20919f9c2e18e48142c2712e34298f98b983e': {'fb6b2244707dd5dfad12d62cb6a3c396555270d1'}, '51e6c8c8b6e847e2600420252160e331c85bd46a': {'10c333ea10b7b290eb9f2659ea7b3897d0b6a71a', 'fb6b2244707dd5dfad12d62cb6a3c396555270d1'}, '6c4e39d4c1356bd3c068af3a2d42cf020e960842': {'10c333ea10b7b290eb9f2659ea7b3897d0b6a71a', 'fb6b2244707dd5dfad12d62cb6a3c396555270d1'}, '88a1c1de41e145d7c39abe4d6dc4f3fd51545748': {'8bfe07c7303119393a0ce0e3078d6bd74395f5bd'}}\n"
     ]
    }
   ],
   "source": [
    "repo = Repo(\"/Users/air/Documents/CS846/spring-boot\")\n",
    "\n",
    "heads = repo.heads\n",
    "print(heads)\n",
    "\n",
    "# repo.git.checkout('master')\n",
    "# blames = repo.blame('HEAD', 'spring-boot-actuator/src/main/java/org/springframework/boot/actuate/autoconfigure/HealthIndicatorAutoConfiguration.java')\n",
    "# print(blames[0:11])\n",
    "\n",
    "\n",
    "repo.git.checkout('master')\n",
    "\n",
    "# commits = repo.commit\n",
    "# print(commits)\n",
    "\n",
    "bug_inducing_commits = {}\n",
    "for key, value in bug_fixing_commits.items():\n",
    "    parent_commit = value[\"fixCommitParentSHA1\"]\n",
    "    for path_name, line_nums in value[\"bugFilePath\"].items():\n",
    "        for line_num in line_nums:\n",
    "            line = 1\n",
    "            for commit, lines in repo.blame(parent_commit, path_name):\n",
    "                if line <= line_num < (line + len(lines)):\n",
    "                    if key in bug_inducing_commits:\n",
    "                        if commit not in bug_inducing_commits[key]:\n",
    "                            bug_inducing_commits[key].add(commit.hexsha)\n",
    "                    else:\n",
    "                        bug_inducing_commits[key] = {commit.hexsha}\n",
    "#                     print(commit)\n",
    "                line += len(lines)\n",
    "print(bug_inducing_commits)"
   ]
  },
  {
   "cell_type": "code",
   "execution_count": 67,
   "metadata": {},
   "outputs": [],
   "source": [
    "data = []\n",
    "for key, value in bug_inducing_commits.items():\n",
    "    commit_ids = list(value)\n",
    "    data.append({\n",
    "        'bug_fixing_commit_id': key,\n",
    "        'bug_inducing_commit_ids': commit_ids\n",
    "    })\n",
    "    \n",
    "with open('bug_inducing_commits.json', 'w') as outfile:\n",
    "    json.dump(data, outfile)"
   ]
  },
  {
   "cell_type": "code",
   "execution_count": 68,
   "metadata": {},
   "outputs": [
    {
     "name": "stdout",
     "output_type": "stream",
     "text": [
      "b569918db1c33847ce1d1464d7d78f692f289e99\n",
      "['\\t@ConditionalOnEnablednHealthIndicator(\"db\")']\n",
      "{'b569918db1c33847ce1d1464d7d78f692f289e99'}\n"
     ]
    }
   ],
   "source": [
    "ln = 156\n",
    "tlc = 1\n",
    "commits = set()\n",
    "for commit, lines in repo.blame('69fcae6b44cb9443bd970f89f7215258d6092bcc', 'spring-boot-actuator/src/main/java/org/springframework/boot/actuate/autoconfigure/HealthIndicatorAutoConfiguration.java'):\n",
    "    if tlc <= ln < (tlc + len(lines)):\n",
    "        commits.add(commit.hexsha)\n",
    "        print(commit)\n",
    "        print(lines)\n",
    "    tlc += len(lines)\n",
    "print(commits)"
   ]
  },
  {
   "cell_type": "code",
   "execution_count": null,
   "metadata": {},
   "outputs": [],
   "source": []
  }
 ],
 "metadata": {
  "kernelspec": {
   "display_name": "Python 3",
   "language": "python",
   "name": "python3"
  },
  "language_info": {
   "codemirror_mode": {
    "name": "ipython",
    "version": 3
   },
   "file_extension": ".py",
   "mimetype": "text/x-python",
   "name": "python",
   "nbconvert_exporter": "python",
   "pygments_lexer": "ipython3",
   "version": "3.7.4"
  }
 },
 "nbformat": 4,
 "nbformat_minor": 2
}
