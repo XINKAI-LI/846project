{
 "cells": [
  {
   "cell_type": "code",
   "execution_count": 67,
   "id": "injured-delicious",
   "metadata": {},
   "outputs": [],
   "source": [
    "import numpy as np\n",
    "import pandas as pd\n",
    "import pickle\n",
    "import xgboost as xgb\n",
    "from xgboost import plot_importance\n",
    "from sklearn.model_selection import train_test_split\n",
    "\n",
    "data = pd.read_csv('./data_v3.csv')\n",
    "\n",
    "def foo(x):\n",
    "    if x >= 3:\n",
    "        return 1\n",
    "    return 0\n",
    "\n",
    "data['bug_num'] = data['bug_num'].map(lambda x: foo(x) )\n"
   ]
  },
  {
   "cell_type": "code",
   "execution_count": 64,
   "id": "automotive-incidence",
   "metadata": {},
   "outputs": [
    {
     "name": "stdout",
     "output_type": "stream",
     "text": [
      "the train size is 89\n",
      "the test size is 30\n",
      "[19:08:21] WARNING: ../src/learner.cc:541: \n",
      "Parameters: { silent } might not be used.\n",
      "\n",
      "  This may not be accurate due to some parameters are only used in language bindings but\n",
      "  passed down to XGBoost core.  Or some parameters are not used but slip through this\n",
      "  verification. Please open an issue if you find above cases.\n",
      "\n",
      "\n",
      "[19:08:21] WARNING: ../src/learner.cc:1061: Starting in XGBoost 1.3.0, the default evaluation metric used with the objective 'multi:softmax' was changed from 'merror' to 'mlogloss'. Explicitly set eval_metric if you'd like to restore the old behavior.\n",
      "accuracy rate is 0.9666666666666667\n"
     ]
    }
   ],
   "source": [
    "'''\n",
    "created_at,\n",
    "updated_at,\n",
    "size,\n",
    "stargazers_count,\n",
    "watchers_count, #\n",
    "forks_count, #\n",
    "network_count, #\n",
    "subscribers_count, #\n",
    "followers, #\n",
    "public_repos, #\n",
    "created_at,\n",
    "contributions, #\n",
    "author_id,\n",
    "LOC, #\n",
    "Add, #\n",
    "Delete, #\n",
    "Files, #\n",
    "bug_num  #\n",
    "'''\n",
    "\n",
    "feature_columns = [\n",
    "    #'watchers_count',\n",
    "    #'forks_count',\n",
    "    #'network_count',\n",
    "    #'subscribers_count',\n",
    "    'followers',\n",
    "    'public_repos',\n",
    "    'contributions',\n",
    "    'LOC',\n",
    "    'Add',\n",
    "    'Delete',\n",
    "    'Files',\n",
    "]\n",
    "\n",
    "target_column = 'bug_num'\n",
    "\n",
    "train, test = train_test_split(data, test_size=0.25, random_state=14)\n",
    "xgtrain = xgb.DMatrix(train[feature_columns].values, train[target_column].values)\n",
    "xgtest = xgb.DMatrix(test[feature_columns].values, test[target_column].values)\n",
    "\n",
    "print(\"the train size is {}\".format(len(train[target_column].values)))\n",
    "print(\"the test size is {}\".format(len(test[target_column].values)))\n",
    "\n",
    "params = {\n",
    "    'booster': 'gbtree',\n",
    "    'objective': 'multi:softmax',\n",
    "    'num_class': 2,\n",
    "    'gamma': 0.1,\n",
    "    'max_depth': 6,\n",
    "    'lambda': 2,\n",
    "    'subsample': 0.7,\n",
    "    'colsample_bytree': 0.7,\n",
    "    'min_child_weight': 3,\n",
    "    'silent': 1,\n",
    "    'eta': 0.1,\n",
    "    'seed': 1000,\n",
    "    'nthread': 4,\n",
    "}\n",
    "\n",
    "# build the model\n",
    "num_round = 300\n",
    "bst = xgb.train(params, xgtrain, num_round)\n",
    "\n",
    "# prediction and check the accuracy\n",
    "preds = bst.predict(xgtest)\n",
    "labels = xgtest.get_label()\n",
    "\n",
    "match = 0.0\n",
    "for i in range(len(preds)):\n",
    "    if preds[i] == labels[i]:\n",
    "        match += 1\n",
    "acc = match / len(preds) % 100.0\n",
    "\n",
    "print(\"accuracy rate is {}\".format(acc))\n"
   ]
  },
  {
   "cell_type": "code",
   "execution_count": 75,
   "id": "correct-disposition",
   "metadata": {},
   "outputs": [
    {
     "data": {
      "text/plain": [
       "<AxesSubplot:title={'center':'Feature importance'}, xlabel='F score', ylabel='Features'>"
      ]
     },
     "execution_count": 75,
     "metadata": {},
     "output_type": "execute_result"
    },
    {
     "data": {
      "image/png": "[encoded data removed]",
      "text/plain": [
       "<Figure size 432x288 with 1 Axes>"
      ]
     },
     "metadata": {
      "needs_background": "light"
     },
     "output_type": "display_data"
    }
   ],
   "source": [
    "# data analysis\n",
    "plot_importance(bst, importance_type ='weight')"
   ]
  },
  {
   "cell_type": "code",
   "execution_count": 76,
   "id": "first-intranet",
   "metadata": {},
   "outputs": [
    {
     "data": {
      "text/plain": [
       "<AxesSubplot:title={'center':'Feature importance'}, xlabel='F score', ylabel='Features'>"
      ]
     },
     "execution_count": 76,
     "metadata": {},
     "output_type": "execute_result"
    },
    {
     "data": {
      "image/png": "[encoded data removed]",
      "text/plain": [
       "<Figure size 432x288 with 1 Axes>"
      ]
     },
     "metadata": {
      "needs_background": "light"
     },
     "output_type": "display_data"
    }
   ],
   "source": [
    "plot_importance(bst, importance_type ='gain')"
   ]
  },
  {
   "cell_type": "code",
   "execution_count": null,
   "id": "suffering-worst",
   "metadata": {},
   "outputs": [],
   "source": []
  }
 ],
 "metadata": {
  "kernelspec": {
   "display_name": "Python 3",
   "language": "python",
   "name": "python3"
  },
  "language_info": {
   "codemirror_mode": {
    "name": "ipython",
    "version": 3
   },
   "file_extension": ".py",
   "mimetype": "text/x-python",
   "name": "python",
   "nbconvert_exporter": "python",
   "pygments_lexer": "ipython3",
   "version": "3.8.5"
  }
 },
 "nbformat": 4,
 "nbformat_minor": 5
}
