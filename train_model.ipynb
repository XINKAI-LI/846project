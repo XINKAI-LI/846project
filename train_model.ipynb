{
 "cells": [
  {
   "cell_type": "code",
   "execution_count": 252,
   "id": "injured-delicious",
   "metadata": {},
   "outputs": [
    {
     "name": "stdout",
     "output_type": "stream",
     "text": [
      "614\n",
      "453\n",
      "615\n"
     ]
    }
   ],
   "source": [
    "import numpy as np\n",
    "import pandas as pd\n",
    "import pickle\n",
    "import xgboost as xgb\n",
    "from xgboost import plot_importance\n",
    "from sklearn.model_selection import train_test_split\n",
    "\n",
    "\n",
    "data = pd.read_csv('./final_data.csv')\n",
    "\n",
    "c1 = 0\n",
    "c2 = 0\n",
    "c3 = 0\n",
    "data_size = 1682\n",
    "\n",
    "threshod1 = 0.008\n",
    "threshod2 = 0.0025\n",
    "\n",
    "for i in range(data_size):\n",
    "    #print(i)\n",
    "    data.loc[i, 'bug_num'] = data.loc[i, 'bug_num'] * 1.0 / data.loc[i, 'LOC']\n",
    "    if data.loc[i, 'bug_num'] >= threshod1:\n",
    "        c1 += 1\n",
    "    elif data.loc[i, 'bug_num'] >= threshod2:\n",
    "        c2 += 1\n",
    "    else:\n",
    "        c3 += 1\n",
    "print(c1)       \n",
    "print(c2) \n",
    "print(c3) \n",
    "\n",
    "def foo3(x):\n",
    "    if x >= threshod1:\n",
    "        return 2\n",
    "    if x >= threshod2:\n",
    "        return 1\n",
    "    return 0\n",
    "\n",
    "def foo2(x):\n",
    "    if x >= threshod1:\n",
    "        return 1\n",
    "    return 0\n",
    "\n",
    "data['bug_num'] = data['bug_num'].map(lambda x: foo2(x))\n",
    "\n"
   ]
  },
  {
   "cell_type": "code",
   "execution_count": 253,
   "id": "automotive-incidence",
   "metadata": {},
   "outputs": [
    {
     "name": "stdout",
     "output_type": "stream",
     "text": [
      "the train size is 1429\n",
      "the test size is 253\n",
      "[19:11:01] WARNING: ../src/learner.cc:541: \n",
      "Parameters: { silent } might not be used.\n",
      "\n",
      "  This may not be accurate due to some parameters are only used in language bindings but\n",
      "  passed down to XGBoost core.  Or some parameters are not used but slip through this\n",
      "  verification. Please open an issue if you find above cases.\n",
      "\n",
      "\n",
      "[19:11:01] WARNING: ../src/learner.cc:1061: Starting in XGBoost 1.3.0, the default evaluation metric used with the objective 'multi:softmax' was changed from 'merror' to 'mlogloss'. Explicitly set eval_metric if you'd like to restore the old behavior.\n"
     ]
    }
   ],
   "source": [
    "'''\n",
    "created_at,\n",
    "updated_at,\n",
    "size, #\n",
    "stargazers_count,\n",
    "watchers_count, #\n",
    "forks_count, #\n",
    "network_count, #\n",
    "subscribers_count, #\n",
    "followers, #\n",
    "public_repos, #\n",
    "created_at,\n",
    "contributions, #\n",
    "author_id,\n",
    "LOC, #\n",
    "Add, #\n",
    "Delete, #\n",
    "Files, #\n",
    "bug_num  #\n",
    "'''\n",
    "\n",
    "feature_columns = [\n",
    "    'size',\n",
    "    'watchers_count',\n",
    "    'forks_count',\n",
    "    'network_count',\n",
    "    'subscribers_count',\n",
    "    \n",
    "    'followers',\n",
    "    'public_repos',\n",
    "    'contributions',\n",
    "    #'LOC',\n",
    "    #'Add',\n",
    "    #'Delete',\n",
    "    #'Files',\n",
    "]\n",
    "\n",
    "target_column = 'bug_num'\n",
    "\n",
    "train, test = train_test_split(data, test_size=0.15, random_state=42)\n",
    "\n",
    "xgtrain = xgb.DMatrix(train[feature_columns].values, train[target_column].values)\n",
    "xgtest = xgb.DMatrix(test[feature_columns].values, test[target_column].values)\n",
    "\n",
    "\n",
    "\n",
    "print(\"the train size is {}\".format(len(train[target_column].values)))\n",
    "print(\"the test size is {}\".format(len(test[target_column].values)))\n",
    "\n",
    "params = {\n",
    "    'booster': 'gbtree',\n",
    "    'objective': 'multi:softmax',\n",
    "    'num_class': 2,\n",
    "    'gamma': 0.1,\n",
    "    'max_depth': 6,\n",
    "    'lambda': 2,\n",
    "    'subsample': 0.7,\n",
    "    'colsample_bytree': 0.7,\n",
    "    'min_child_weight': 2,\n",
    "    'silent': 1,\n",
    "    'eta': 0.1,\n",
    "    'seed': 111,\n",
    "    'nthread': 4,\n",
    "}\n",
    "\n",
    "# build the model\n",
    "num_round = 500\n",
    "bst = xgb.train(params, xgtrain, num_round)\n",
    "\n"
   ]
  },
  {
   "cell_type": "code",
   "execution_count": 255,
   "id": "unlike-death",
   "metadata": {},
   "outputs": [
    {
     "name": "stdout",
     "output_type": "stream",
     "text": [
      "accuracy rate is 69.1699604743083\n",
      "66\n",
      "37.0\n",
      "\n",
      "high risk accuracy rate is 56.060606060606055\n",
      "0.36504161712247324\n"
     ]
    }
   ],
   "source": [
    "\n",
    "project_index = project_index3\n",
    "# prediction and check the accuracy\n",
    "preds = bst.predict(xgtest)\n",
    "labels = xgtest.get_label()\n",
    "\n",
    "match = 0.0\n",
    "high_risk_match = 0.0\n",
    "high_risk_count = 0\n",
    "\n",
    "#project_match = 0\n",
    "#project_count = 0\n",
    "\n",
    "high_pred = 1\n",
    "\n",
    "for i in range(len(preds)):\n",
    "    # check high risk\n",
    "    if preds[i] == high_pred:\n",
    "        high_risk_count += 1\n",
    "        \n",
    "    \n",
    "        \n",
    "    if preds[i] == labels[i]:\n",
    "        match += 1\n",
    "        if preds[i] == high_pred:\n",
    "            high_risk_match += 1\n",
    "    \n",
    "        \n",
    "# acc\n",
    "acc = match / len(preds) * 100.0\n",
    "print(\"accuracy rate is {}\".format(acc))\n",
    "\n",
    "# high risk\n",
    "print(high_risk_count)\n",
    "print(high_risk_match)\n",
    "print()\n",
    "high_risk_acc = high_risk_match / high_risk_count * 100.0\n",
    "nature_ratio = c1 / data_size\n",
    "\n",
    "print(\"high risk accuracy rate is {}\".format(high_risk_acc))\n",
    "\n",
    "print(c1/data_size * 1.0)\n"
   ]
  },
  {
   "cell_type": "code",
   "execution_count": 226,
   "id": "correct-disposition",
   "metadata": {},
   "outputs": [
    {
     "data": {
      "text/plain": [
       "<AxesSubplot:title={'center':'Feature importance'}, xlabel='F score', ylabel='Features'>"
      ]
     },
     "execution_count": 226,
     "metadata": {},
     "output_type": "execute_result"
    },
    {
     "data": {
      "image/png": "[encoded data removed]",
      "text/plain": [
       "<Figure size 432x288 with 1 Axes>"
      ]
     },
     "metadata": {
      "needs_background": "light"
     },
     "output_type": "display_data"
    }
   ],
   "source": [
    "# data analysis\n",
    "plot_importance(bst, importance_type ='weight')"
   ]
  },
  {
   "cell_type": "code",
   "execution_count": 230,
   "id": "first-intranet",
   "metadata": {},
   "outputs": [
    {
     "data": {
      "text/plain": [
       "<AxesSubplot:title={'center':'Feature importance'}, xlabel='F score', ylabel='Features'>"
      ]
     },
     "execution_count": 230,
     "metadata": {},
     "output_type": "execute_result"
    },
    {
     "data": {
      "image/png": "[encoded data removed]",
      "text/plain": [
       "<Figure size 432x288 with 1 Axes>"
      ]
     },
     "metadata": {
      "needs_background": "light"
     },
     "output_type": "display_data"
    }
   ],
   "source": [
    "plot_importance(bst, importance_type ='gain')"
   ]
  }
 ],
 "metadata": {
  "kernelspec": {
   "display_name": "Python 3",
   "language": "python",
   "name": "python3"
  },
  "language_info": {
   "codemirror_mode": {
    "name": "ipython",
    "version": 3
   },
   "file_extension": ".py",
   "mimetype": "text/x-python",
   "name": "python",
   "nbconvert_exporter": "python",
   "pygments_lexer": "ipython3",
   "version": "3.8.5"
  }
 },
 "nbformat": 4,
 "nbformat_minor": 5
}
